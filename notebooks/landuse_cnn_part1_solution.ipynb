{
 "cells": [
  {
   "cell_type": "markdown",
   "source": [
    "# Solutions to CNN Sattelite Predictions, Part 1\n",
    "\n",
    "This is the solution to increasing the performance of the model from the CNN in part 1 of the land use classification tutorial. The solution is presented as an interactive exploration of the code, where some of the code is reformatted into separate files so that we can call them multiple times for our different model iterations. \n",
    "\n",
    "You can safely skip the following few cells as they are just for setting up the environment and loading the data."
   ],
   "metadata": {
    "collapsed": false
   },
   "id": "772f3b866864f08b"
  },
  {
   "cell_type": "code",
   "execution_count": 2,
   "outputs": [],
   "source": [
    "import torch\n",
    "from torch.utils.data import DataLoader, TensorDataset\n",
    "from torchvision import transforms\n",
    "from torchsummary import summary\n",
    "from sklearn.model_selection import train_test_split\n",
    "\n",
    "from scripts.train import train\n",
    "from scripts.data_loader import load_data, load_images, calculate_mean_std, transform_data"
   ],
   "metadata": {
    "collapsed": false,
    "ExecuteTime": {
     "end_time": "2023-12-22T08:45:40.837313600Z",
     "start_time": "2023-12-22T08:45:40.831372500Z"
    }
   },
   "id": "44dd69a78c252ddb"
  },
  {
   "cell_type": "code",
   "execution_count": 3,
   "outputs": [
    {
     "name": "stdout",
     "output_type": "stream",
     "text": [
      "Using device: cpu\n"
     ]
    }
   ],
   "source": [
    "# Check if CUDA is available, otherwise use CPU\n",
    "device = torch.device('cuda' if torch.cuda.is_available() else 'cpu')\n",
    "print(f'Using device: {device}')"
   ],
   "metadata": {
    "collapsed": false,
    "ExecuteTime": {
     "end_time": "2023-12-22T08:45:42.443394100Z",
     "start_time": "2023-12-22T08:45:42.436588900Z"
    }
   },
   "id": "d384c29c60ab75e2"
  },
  {
   "cell_type": "code",
   "execution_count": 4,
   "outputs": [
    {
     "name": "stdout",
     "output_type": "stream",
     "text": [
      "Loaded 800 images, with 21 different classes.\n"
     ]
    },
    {
     "name": "stderr",
     "output_type": "stream",
     "text": [
      "Loading images: 100%|██████████| 560/560 [00:01<00:00, 374.22it/s]\n",
      "Loading images: 100%|██████████| 120/120 [00:00<00:00, 389.44it/s]\n",
      "Loading images: 100%|██████████| 120/120 [00:00<00:00, 382.75it/s]\n"
     ]
    }
   ],
   "source": [
    "image_paths, labels, num_classes, label_mapping = load_data(800)\n",
    "\n",
    "# Split the data (adjust the test_size according to your needs)\n",
    "train_paths, test_paths, train_labels, test_labels = train_test_split(\n",
    "    image_paths, labels, test_size=0.30, random_state=42)\n",
    "\n",
    "val_paths, test_paths, val_labels, test_labels = train_test_split(\n",
    "    test_paths, test_labels, test_size=0.5, random_state=42)\n",
    "\n",
    "train_dataset, val_dataset, test_dataset = transform_data(train_paths, train_labels, val_paths, val_labels, test_paths, test_labels)\n",
    "\n",
    "# Create DataLoaders of size 64\n",
    "train_loader64 = DataLoader(train_dataset, batch_size=64, shuffle=True)\n",
    "val_loader64 = DataLoader(val_dataset, batch_size=64, shuffle=False)\n",
    "test_loader64 = DataLoader(test_dataset, batch_size=64, shuffle=False)\n",
    "\n",
    "# Create DataLoaders of size 32\n",
    "train_loader32 = DataLoader(train_dataset, batch_size=32, shuffle=True)\n",
    "val_loader32 = DataLoader(val_dataset, batch_size=32, shuffle=False)\n",
    "test_loader32 = DataLoader(test_dataset, batch_size=32, shuffle=False)"
   ],
   "metadata": {
    "collapsed": false,
    "ExecuteTime": {
     "end_time": "2023-12-22T08:45:46.572940700Z",
     "start_time": "2023-12-22T08:45:43.874316200Z"
    }
   },
   "id": "75c692727643d7ae"
  },
  {
   "cell_type": "markdown",
   "source": [
    "# Where can we go from here?\n",
    "Let's first run the basic model, provided CNN from part 1 to benchmark our performance. Note how the model is defined in the `models` folder and imported here. This is to keep the code clean and modular."
   ],
   "metadata": {
    "collapsed": false
   },
   "id": "342f608b32e3b3e7"
  },
  {
   "cell_type": "code",
   "execution_count": 5,
   "outputs": [
    {
     "name": "stdout",
     "output_type": "stream",
     "text": [
      "Epoch 1: Improved validation accuracy to 7.50%. Model saved.\n",
      "Epoch 1/10 Train Loss: 3.0376, Validation Loss: 2.9583, Accuracy: 7.50%\n",
      "Epoch 2: Improved validation accuracy to 16.67%. Model saved.\n",
      "Epoch 2/10 Train Loss: 2.9082, Validation Loss: 2.8331, Accuracy: 16.67%\n",
      "Epoch 3: Improved validation accuracy to 25.00%. Model saved.\n",
      "Epoch 3/10 Train Loss: 2.6707, Validation Loss: 2.5057, Accuracy: 25.00%\n"
     ]
    },
    {
     "ename": "KeyboardInterrupt",
     "evalue": "",
     "output_type": "error",
     "traceback": [
      "\u001B[1;31m---------------------------------------------------------------------------\u001B[0m",
      "\u001B[1;31mKeyboardInterrupt\u001B[0m                         Traceback (most recent call last)",
      "Cell \u001B[1;32mIn[5], line 8\u001B[0m\n\u001B[0;32m      4\u001B[0m \u001B[38;5;66;03m# summary(model, input_size=(3, 224, 224)) \u001B[39;00m\n\u001B[0;32m      5\u001B[0m \n\u001B[0;32m      6\u001B[0m \u001B[38;5;66;03m# train the basic model\u001B[39;00m\n\u001B[0;32m      7\u001B[0m path_basic \u001B[38;5;241m=\u001B[39m \u001B[38;5;124m'\u001B[39m\u001B[38;5;124m../models/best_basic_model.pth\u001B[39m\u001B[38;5;124m'\u001B[39m\n\u001B[1;32m----> 8\u001B[0m training_losses, validation_losses, validation_accuracies \u001B[38;5;241m=\u001B[39m train(modelBasic, train_loader64, val_loader64, device, path_basic, num_epochs\u001B[38;5;241m=\u001B[39m\u001B[38;5;241m10\u001B[39m)\n",
      "File \u001B[1;32m~\\PycharmProjects\\scientificProject\\scripts\\train.py:28\u001B[0m, in \u001B[0;36mtrain\u001B[1;34m(model, train_loader, val_loader, device, best_model_path, num_epochs, lr)\u001B[0m\n\u001B[0;32m     26\u001B[0m outputs \u001B[38;5;241m=\u001B[39m model(images)\n\u001B[0;32m     27\u001B[0m loss \u001B[38;5;241m=\u001B[39m criterion(outputs, labels)\n\u001B[1;32m---> 28\u001B[0m loss\u001B[38;5;241m.\u001B[39mbackward()\n\u001B[0;32m     29\u001B[0m optimizer\u001B[38;5;241m.\u001B[39mstep()\n\u001B[0;32m     30\u001B[0m training_loss \u001B[38;5;241m+\u001B[39m\u001B[38;5;241m=\u001B[39m loss\u001B[38;5;241m.\u001B[39mitem()\n",
      "File \u001B[1;32m~\\anaconda3\\envs\\scientificProject\\Lib\\site-packages\\torch\\_tensor.py:492\u001B[0m, in \u001B[0;36mTensor.backward\u001B[1;34m(self, gradient, retain_graph, create_graph, inputs)\u001B[0m\n\u001B[0;32m    482\u001B[0m \u001B[38;5;28;01mif\u001B[39;00m has_torch_function_unary(\u001B[38;5;28mself\u001B[39m):\n\u001B[0;32m    483\u001B[0m     \u001B[38;5;28;01mreturn\u001B[39;00m handle_torch_function(\n\u001B[0;32m    484\u001B[0m         Tensor\u001B[38;5;241m.\u001B[39mbackward,\n\u001B[0;32m    485\u001B[0m         (\u001B[38;5;28mself\u001B[39m,),\n\u001B[1;32m   (...)\u001B[0m\n\u001B[0;32m    490\u001B[0m         inputs\u001B[38;5;241m=\u001B[39minputs,\n\u001B[0;32m    491\u001B[0m     )\n\u001B[1;32m--> 492\u001B[0m torch\u001B[38;5;241m.\u001B[39mautograd\u001B[38;5;241m.\u001B[39mbackward(\n\u001B[0;32m    493\u001B[0m     \u001B[38;5;28mself\u001B[39m, gradient, retain_graph, create_graph, inputs\u001B[38;5;241m=\u001B[39minputs\n\u001B[0;32m    494\u001B[0m )\n",
      "File \u001B[1;32m~\\anaconda3\\envs\\scientificProject\\Lib\\site-packages\\torch\\autograd\\__init__.py:251\u001B[0m, in \u001B[0;36mbackward\u001B[1;34m(tensors, grad_tensors, retain_graph, create_graph, grad_variables, inputs)\u001B[0m\n\u001B[0;32m    246\u001B[0m     retain_graph \u001B[38;5;241m=\u001B[39m create_graph\n\u001B[0;32m    248\u001B[0m \u001B[38;5;66;03m# The reason we repeat the same comment below is that\u001B[39;00m\n\u001B[0;32m    249\u001B[0m \u001B[38;5;66;03m# some Python versions print out the first line of a multi-line function\u001B[39;00m\n\u001B[0;32m    250\u001B[0m \u001B[38;5;66;03m# calls in the traceback and some print out the last line\u001B[39;00m\n\u001B[1;32m--> 251\u001B[0m Variable\u001B[38;5;241m.\u001B[39m_execution_engine\u001B[38;5;241m.\u001B[39mrun_backward(  \u001B[38;5;66;03m# Calls into the C++ engine to run the backward pass\u001B[39;00m\n\u001B[0;32m    252\u001B[0m     tensors,\n\u001B[0;32m    253\u001B[0m     grad_tensors_,\n\u001B[0;32m    254\u001B[0m     retain_graph,\n\u001B[0;32m    255\u001B[0m     create_graph,\n\u001B[0;32m    256\u001B[0m     inputs,\n\u001B[0;32m    257\u001B[0m     allow_unreachable\u001B[38;5;241m=\u001B[39m\u001B[38;5;28;01mTrue\u001B[39;00m,\n\u001B[0;32m    258\u001B[0m     accumulate_grad\u001B[38;5;241m=\u001B[39m\u001B[38;5;28;01mTrue\u001B[39;00m,\n\u001B[0;32m    259\u001B[0m )\n",
      "\u001B[1;31mKeyboardInterrupt\u001B[0m: "
     ]
    }
   ],
   "source": [
    "from models.BasicCNN import BasicCNN\n",
    "\n",
    "modelBasic = BasicCNN(num_classes=num_classes).to(device) # import the basic model\n",
    "# summary(model, input_size=(3, 224, 224)) \n",
    "\n",
    "# train the basic model\n",
    "path_basic = '../models/best_basic_model.pth'\n",
    "training_losses, validation_losses, validation_accuracies = train(modelBasic, train_loader64, val_loader64, device, path_basic, num_epochs=10)"
   ],
   "metadata": {
    "collapsed": false,
    "ExecuteTime": {
     "end_time": "2023-12-22T08:46:43.535176300Z",
     "start_time": "2023-12-22T08:45:48.008551700Z"
    }
   },
   "id": "c1c7900512844db2"
  },
  {
   "cell_type": "markdown",
   "source": [
    "As we see, it's not that great. What can we do to improve it? Some very basic ideas are:\n",
    "- Change the kernel size (it is currently all 3)\n",
    "- Change the number of layers\n",
    "- Change the number of channels\n",
    "\n",
    "Let's start off by simply changing the kernel size to 5 and see what happens."
   ],
   "metadata": {
    "collapsed": false
   },
   "id": "5de8f1cf9b105861"
  },
  {
   "cell_type": "code",
   "execution_count": 6,
   "outputs": [
    {
     "name": "stdout",
     "output_type": "stream",
     "text": [
      "Epoch 1: Improved validation accuracy to 8.33%. Model saved.\n",
      "Epoch 1/10 Train Loss: 3.0425, Validation Loss: 2.9977, Accuracy: 8.33%\n",
      "Epoch 2: Improved validation accuracy to 12.50%. Model saved.\n",
      "Epoch 2/10 Train Loss: 2.9767, Validation Loss: 2.8788, Accuracy: 12.50%\n",
      "Epoch 3: Improved validation accuracy to 20.00%. Model saved.\n",
      "Epoch 3/10 Train Loss: 2.7632, Validation Loss: 2.5688, Accuracy: 20.00%\n"
     ]
    },
    {
     "ename": "KeyboardInterrupt",
     "evalue": "",
     "output_type": "error",
     "traceback": [
      "\u001B[1;31m---------------------------------------------------------------------------\u001B[0m",
      "\u001B[1;31mKeyboardInterrupt\u001B[0m                         Traceback (most recent call last)",
      "Cell \u001B[1;32mIn[6], line 7\u001B[0m\n\u001B[0;32m      4\u001B[0m \u001B[38;5;66;03m# summary(model, input_size=(3, 224, 224))\u001B[39;00m\n\u001B[0;32m      6\u001B[0m path_basic2 \u001B[38;5;241m=\u001B[39m \u001B[38;5;124m'\u001B[39m\u001B[38;5;124m../models/best_basic_model2.pth\u001B[39m\u001B[38;5;124m'\u001B[39m\n\u001B[1;32m----> 7\u001B[0m training_losses2, validation_losses2, validation_accuracies2 \u001B[38;5;241m=\u001B[39m train(model, train_loader64, val_loader64, device, path_basic2, num_epochs\u001B[38;5;241m=\u001B[39m\u001B[38;5;241m10\u001B[39m)\n",
      "File \u001B[1;32m~\\PycharmProjects\\scientificProject\\scripts\\train.py:28\u001B[0m, in \u001B[0;36mtrain\u001B[1;34m(model, train_loader, val_loader, device, best_model_path, num_epochs, lr)\u001B[0m\n\u001B[0;32m     26\u001B[0m outputs \u001B[38;5;241m=\u001B[39m model(images)\n\u001B[0;32m     27\u001B[0m loss \u001B[38;5;241m=\u001B[39m criterion(outputs, labels)\n\u001B[1;32m---> 28\u001B[0m loss\u001B[38;5;241m.\u001B[39mbackward()\n\u001B[0;32m     29\u001B[0m optimizer\u001B[38;5;241m.\u001B[39mstep()\n\u001B[0;32m     30\u001B[0m training_loss \u001B[38;5;241m+\u001B[39m\u001B[38;5;241m=\u001B[39m loss\u001B[38;5;241m.\u001B[39mitem()\n",
      "File \u001B[1;32m~\\anaconda3\\envs\\scientificProject\\Lib\\site-packages\\torch\\_tensor.py:492\u001B[0m, in \u001B[0;36mTensor.backward\u001B[1;34m(self, gradient, retain_graph, create_graph, inputs)\u001B[0m\n\u001B[0;32m    482\u001B[0m \u001B[38;5;28;01mif\u001B[39;00m has_torch_function_unary(\u001B[38;5;28mself\u001B[39m):\n\u001B[0;32m    483\u001B[0m     \u001B[38;5;28;01mreturn\u001B[39;00m handle_torch_function(\n\u001B[0;32m    484\u001B[0m         Tensor\u001B[38;5;241m.\u001B[39mbackward,\n\u001B[0;32m    485\u001B[0m         (\u001B[38;5;28mself\u001B[39m,),\n\u001B[1;32m   (...)\u001B[0m\n\u001B[0;32m    490\u001B[0m         inputs\u001B[38;5;241m=\u001B[39minputs,\n\u001B[0;32m    491\u001B[0m     )\n\u001B[1;32m--> 492\u001B[0m torch\u001B[38;5;241m.\u001B[39mautograd\u001B[38;5;241m.\u001B[39mbackward(\n\u001B[0;32m    493\u001B[0m     \u001B[38;5;28mself\u001B[39m, gradient, retain_graph, create_graph, inputs\u001B[38;5;241m=\u001B[39minputs\n\u001B[0;32m    494\u001B[0m )\n",
      "File \u001B[1;32m~\\anaconda3\\envs\\scientificProject\\Lib\\site-packages\\torch\\autograd\\__init__.py:251\u001B[0m, in \u001B[0;36mbackward\u001B[1;34m(tensors, grad_tensors, retain_graph, create_graph, grad_variables, inputs)\u001B[0m\n\u001B[0;32m    246\u001B[0m     retain_graph \u001B[38;5;241m=\u001B[39m create_graph\n\u001B[0;32m    248\u001B[0m \u001B[38;5;66;03m# The reason we repeat the same comment below is that\u001B[39;00m\n\u001B[0;32m    249\u001B[0m \u001B[38;5;66;03m# some Python versions print out the first line of a multi-line function\u001B[39;00m\n\u001B[0;32m    250\u001B[0m \u001B[38;5;66;03m# calls in the traceback and some print out the last line\u001B[39;00m\n\u001B[1;32m--> 251\u001B[0m Variable\u001B[38;5;241m.\u001B[39m_execution_engine\u001B[38;5;241m.\u001B[39mrun_backward(  \u001B[38;5;66;03m# Calls into the C++ engine to run the backward pass\u001B[39;00m\n\u001B[0;32m    252\u001B[0m     tensors,\n\u001B[0;32m    253\u001B[0m     grad_tensors_,\n\u001B[0;32m    254\u001B[0m     retain_graph,\n\u001B[0;32m    255\u001B[0m     create_graph,\n\u001B[0;32m    256\u001B[0m     inputs,\n\u001B[0;32m    257\u001B[0m     allow_unreachable\u001B[38;5;241m=\u001B[39m\u001B[38;5;28;01mTrue\u001B[39;00m,\n\u001B[0;32m    258\u001B[0m     accumulate_grad\u001B[38;5;241m=\u001B[39m\u001B[38;5;28;01mTrue\u001B[39;00m,\n\u001B[0;32m    259\u001B[0m )\n",
      "\u001B[1;31mKeyboardInterrupt\u001B[0m: "
     ]
    }
   ],
   "source": [
    "from models.BasicCNN2 import BasicCNN2 # import the changed model, go check it out in the models folder\n",
    "\n",
    "model = BasicCNN2(num_classes=num_classes).to(device)\n",
    "# summary(model, input_size=(3, 224, 224))\n",
    "\n",
    "path_basic2 = '../models/best_basic_model2.pth'\n",
    "training_losses2, validation_losses2, validation_accuracies2 = train(model, train_loader64, val_loader64, device, path_basic2, num_epochs=10)"
   ],
   "metadata": {
    "collapsed": false,
    "ExecuteTime": {
     "end_time": "2023-12-22T08:47:56.715937400Z",
     "start_time": "2023-12-22T08:46:46.317216600Z"
    }
   },
   "id": "d6f0ff8333518189"
  },
  {
   "cell_type": "markdown",
   "source": [
    "# Changing the Architecture\n",
    "We see that these small changes affect the model, so let's investigate them in a more structured manner by changing the architecture of the CNN. Remember that there are a few basic architectures, such as:\n",
    "- LeNet\n",
    "- AlexNet\n",
    "- VGG\n",
    "- ResNet\n",
    "\n",
    "We will try out LeNet and AlexNet, and see which one performs better. \n"
   ],
   "metadata": {
    "collapsed": false
   },
   "id": "aad394a5a089fdec"
  },
  {
   "cell_type": "code",
   "execution_count": 7,
   "outputs": [
    {
     "name": "stdout",
     "output_type": "stream",
     "text": [
      "----------------------------------------------------------------\n",
      "        Layer (type)               Output Shape         Param #\n",
      "================================================================\n",
      "            Conv2d-1          [-1, 6, 224, 224]             456\n",
      "         MaxPool2d-2          [-1, 6, 112, 112]               0\n",
      "            Conv2d-3         [-1, 16, 112, 112]           2,416\n",
      "         MaxPool2d-4           [-1, 16, 56, 56]               0\n",
      "            Linear-5                  [-1, 120]       6,021,240\n",
      "            Linear-6                   [-1, 84]          10,164\n",
      "            Linear-7                   [-1, 21]           1,785\n",
      "================================================================\n",
      "Total params: 6,036,061\n",
      "Trainable params: 6,036,061\n",
      "Non-trainable params: 0\n",
      "----------------------------------------------------------------\n",
      "Input size (MB): 0.57\n",
      "Forward/backward pass size (MB): 4.79\n",
      "Params size (MB): 23.03\n",
      "Estimated Total Size (MB): 28.39\n",
      "----------------------------------------------------------------\n"
     ]
    }
   ],
   "source": [
    "from models.LeNet import LeNet\n",
    "\n",
    "# import the LeNet model\n",
    "model = LeNet(num_classes=num_classes).to(device)\n",
    "summary(model, input_size=(3, 224, 224))"
   ],
   "metadata": {
    "collapsed": false,
    "ExecuteTime": {
     "end_time": "2023-12-22T08:47:58.736579200Z",
     "start_time": "2023-12-22T08:47:58.659076500Z"
    }
   },
   "id": "88d05ee361e399f2"
  },
  {
   "cell_type": "markdown",
   "source": [
    "We can see quite the increase in number of parameters, though it is still reasonable for our purposes. Let's train it and see how it performs."
   ],
   "metadata": {
    "collapsed": false
   },
   "id": "7bb1133a478d5271"
  },
  {
   "cell_type": "code",
   "execution_count": 8,
   "outputs": [
    {
     "name": "stdout",
     "output_type": "stream",
     "text": [
      "Epoch 1: Improved validation accuracy to 10.00%. Model saved.\n",
      "Epoch 1/10 Train Loss: 3.2373, Validation Loss: 2.9255, Accuracy: 10.00%\n",
      "Epoch 2: Improved validation accuracy to 12.50%. Model saved.\n",
      "Epoch 2/10 Train Loss: 2.8612, Validation Loss: 2.7609, Accuracy: 12.50%\n",
      "Epoch 3: Improved validation accuracy to 22.50%. Model saved.\n",
      "Epoch 3/10 Train Loss: 2.5824, Validation Loss: 2.4810, Accuracy: 22.50%\n",
      "Epoch 4: Improved validation accuracy to 35.00%. Model saved.\n",
      "Epoch 4/10 Train Loss: 2.2261, Validation Loss: 2.3562, Accuracy: 35.00%\n"
     ]
    },
    {
     "ename": "KeyboardInterrupt",
     "evalue": "",
     "output_type": "error",
     "traceback": [
      "\u001B[1;31m---------------------------------------------------------------------------\u001B[0m",
      "\u001B[1;31mKeyboardInterrupt\u001B[0m                         Traceback (most recent call last)",
      "Cell \u001B[1;32mIn[8], line 3\u001B[0m\n\u001B[0;32m      1\u001B[0m \u001B[38;5;66;03m# train the model\u001B[39;00m\n\u001B[0;32m      2\u001B[0m path \u001B[38;5;241m=\u001B[39m \u001B[38;5;124m'\u001B[39m\u001B[38;5;124m../models/best_lenet_model.pth\u001B[39m\u001B[38;5;124m'\u001B[39m\n\u001B[1;32m----> 3\u001B[0m training_losses4, validation_losses4, validation_accuracies4 \u001B[38;5;241m=\u001B[39m train(model, train_loader64, val_loader64, device, path, num_epochs\u001B[38;5;241m=\u001B[39m\u001B[38;5;241m10\u001B[39m)\n",
      "File \u001B[1;32m~\\PycharmProjects\\scientificProject\\scripts\\train.py:28\u001B[0m, in \u001B[0;36mtrain\u001B[1;34m(model, train_loader, val_loader, device, best_model_path, num_epochs, lr)\u001B[0m\n\u001B[0;32m     26\u001B[0m outputs \u001B[38;5;241m=\u001B[39m model(images)\n\u001B[0;32m     27\u001B[0m loss \u001B[38;5;241m=\u001B[39m criterion(outputs, labels)\n\u001B[1;32m---> 28\u001B[0m loss\u001B[38;5;241m.\u001B[39mbackward()\n\u001B[0;32m     29\u001B[0m optimizer\u001B[38;5;241m.\u001B[39mstep()\n\u001B[0;32m     30\u001B[0m training_loss \u001B[38;5;241m+\u001B[39m\u001B[38;5;241m=\u001B[39m loss\u001B[38;5;241m.\u001B[39mitem()\n",
      "File \u001B[1;32m~\\anaconda3\\envs\\scientificProject\\Lib\\site-packages\\torch\\_tensor.py:492\u001B[0m, in \u001B[0;36mTensor.backward\u001B[1;34m(self, gradient, retain_graph, create_graph, inputs)\u001B[0m\n\u001B[0;32m    482\u001B[0m \u001B[38;5;28;01mif\u001B[39;00m has_torch_function_unary(\u001B[38;5;28mself\u001B[39m):\n\u001B[0;32m    483\u001B[0m     \u001B[38;5;28;01mreturn\u001B[39;00m handle_torch_function(\n\u001B[0;32m    484\u001B[0m         Tensor\u001B[38;5;241m.\u001B[39mbackward,\n\u001B[0;32m    485\u001B[0m         (\u001B[38;5;28mself\u001B[39m,),\n\u001B[1;32m   (...)\u001B[0m\n\u001B[0;32m    490\u001B[0m         inputs\u001B[38;5;241m=\u001B[39minputs,\n\u001B[0;32m    491\u001B[0m     )\n\u001B[1;32m--> 492\u001B[0m torch\u001B[38;5;241m.\u001B[39mautograd\u001B[38;5;241m.\u001B[39mbackward(\n\u001B[0;32m    493\u001B[0m     \u001B[38;5;28mself\u001B[39m, gradient, retain_graph, create_graph, inputs\u001B[38;5;241m=\u001B[39minputs\n\u001B[0;32m    494\u001B[0m )\n",
      "File \u001B[1;32m~\\anaconda3\\envs\\scientificProject\\Lib\\site-packages\\torch\\autograd\\__init__.py:251\u001B[0m, in \u001B[0;36mbackward\u001B[1;34m(tensors, grad_tensors, retain_graph, create_graph, grad_variables, inputs)\u001B[0m\n\u001B[0;32m    246\u001B[0m     retain_graph \u001B[38;5;241m=\u001B[39m create_graph\n\u001B[0;32m    248\u001B[0m \u001B[38;5;66;03m# The reason we repeat the same comment below is that\u001B[39;00m\n\u001B[0;32m    249\u001B[0m \u001B[38;5;66;03m# some Python versions print out the first line of a multi-line function\u001B[39;00m\n\u001B[0;32m    250\u001B[0m \u001B[38;5;66;03m# calls in the traceback and some print out the last line\u001B[39;00m\n\u001B[1;32m--> 251\u001B[0m Variable\u001B[38;5;241m.\u001B[39m_execution_engine\u001B[38;5;241m.\u001B[39mrun_backward(  \u001B[38;5;66;03m# Calls into the C++ engine to run the backward pass\u001B[39;00m\n\u001B[0;32m    252\u001B[0m     tensors,\n\u001B[0;32m    253\u001B[0m     grad_tensors_,\n\u001B[0;32m    254\u001B[0m     retain_graph,\n\u001B[0;32m    255\u001B[0m     create_graph,\n\u001B[0;32m    256\u001B[0m     inputs,\n\u001B[0;32m    257\u001B[0m     allow_unreachable\u001B[38;5;241m=\u001B[39m\u001B[38;5;28;01mTrue\u001B[39;00m,\n\u001B[0;32m    258\u001B[0m     accumulate_grad\u001B[38;5;241m=\u001B[39m\u001B[38;5;28;01mTrue\u001B[39;00m,\n\u001B[0;32m    259\u001B[0m )\n",
      "\u001B[1;31mKeyboardInterrupt\u001B[0m: "
     ]
    }
   ],
   "source": [
    "# train the model\n",
    "path = '../models/best_lenet_model.pth'\n",
    "training_losses4, validation_losses4, validation_accuracies4 = train(model, train_loader64, val_loader64, device, path, num_epochs=10)"
   ],
   "metadata": {
    "collapsed": false,
    "ExecuteTime": {
     "end_time": "2023-12-22T08:48:16.956879300Z",
     "start_time": "2023-12-22T08:48:04.779669700Z"
    }
   },
   "id": "3d657a55c3d05e01"
  },
  {
   "cell_type": "code",
   "execution_count": 9,
   "outputs": [
    {
     "name": "stdout",
     "output_type": "stream",
     "text": [
      "----------------------------------------------------------------\n",
      "        Layer (type)               Output Shape         Param #\n",
      "================================================================\n",
      "            Conv2d-1           [-1, 96, 55, 55]          34,944\n",
      "         MaxPool2d-2           [-1, 96, 27, 27]               0\n",
      "            Conv2d-3          [-1, 256, 27, 27]         614,656\n",
      "         MaxPool2d-4          [-1, 256, 13, 13]               0\n",
      "            Conv2d-5          [-1, 384, 13, 13]         885,120\n",
      "            Conv2d-6          [-1, 384, 13, 13]       1,327,488\n",
      "            Conv2d-7          [-1, 256, 13, 13]         884,992\n",
      "         MaxPool2d-8            [-1, 256, 6, 6]               0\n",
      "            Linear-9                 [-1, 4096]      37,752,832\n",
      "           Linear-10                 [-1, 4096]      16,781,312\n",
      "           Linear-11                   [-1, 21]          86,037\n",
      "================================================================\n",
      "Total params: 58,367,381\n",
      "Trainable params: 58,367,381\n",
      "Non-trainable params: 0\n",
      "----------------------------------------------------------------\n",
      "Input size (MB): 0.57\n",
      "Forward/backward pass size (MB): 5.96\n",
      "Params size (MB): 222.65\n",
      "Estimated Total Size (MB): 229.18\n",
      "----------------------------------------------------------------\n"
     ]
    }
   ],
   "source": [
    "from models.AlexNet import AlexNet\n",
    "\n",
    "# import the improved model\n",
    "model = AlexNet(num_classes=num_classes).to(device)\n",
    "summary(model, input_size=(3, 224, 224))"
   ],
   "metadata": {
    "collapsed": false,
    "ExecuteTime": {
     "end_time": "2023-12-22T08:48:23.378729100Z",
     "start_time": "2023-12-22T08:48:23.113396200Z"
    }
   },
   "id": "84a72684ed019706"
  },
  {
   "cell_type": "markdown",
   "source": [
    "Now, AlexNet is drastically bigger, possibly even too big for our small tutorial. Let's see how it does with just 10 epochs."
   ],
   "metadata": {
    "collapsed": false
   },
   "id": "ff39e5fcab45d02b"
  },
  {
   "cell_type": "code",
   "execution_count": 10,
   "outputs": [
    {
     "name": "stdout",
     "output_type": "stream",
     "text": [
      "Epoch 1: Improved validation accuracy to 6.67%. Model saved.\n",
      "Epoch 1/10 Train Loss: 4.9243, Validation Loss: 3.0342, Accuracy: 6.67%\n",
      "Epoch 2/10 Train Loss: 3.0423, Validation Loss: 3.0385, Accuracy: 5.00%\n",
      "Epoch 3/10 Train Loss: 3.0451, Validation Loss: 3.0423, Accuracy: 5.00%\n"
     ]
    },
    {
     "ename": "KeyboardInterrupt",
     "evalue": "",
     "output_type": "error",
     "traceback": [
      "\u001B[1;31m---------------------------------------------------------------------------\u001B[0m",
      "\u001B[1;31mKeyboardInterrupt\u001B[0m                         Traceback (most recent call last)",
      "Cell \u001B[1;32mIn[10], line 3\u001B[0m\n\u001B[0;32m      1\u001B[0m \u001B[38;5;66;03m# train the basic model\u001B[39;00m\n\u001B[0;32m      2\u001B[0m path \u001B[38;5;241m=\u001B[39m \u001B[38;5;124m'\u001B[39m\u001B[38;5;124m../models/best_alexnet_model.pth\u001B[39m\u001B[38;5;124m'\u001B[39m\n\u001B[1;32m----> 3\u001B[0m training_losses5, validation_losses5, validation_accuracies5 \u001B[38;5;241m=\u001B[39m train(model, train_loader64, val_loader64, device, path, num_epochs\u001B[38;5;241m=\u001B[39m\u001B[38;5;241m10\u001B[39m)\n",
      "File \u001B[1;32m~\\PycharmProjects\\scientificProject\\scripts\\train.py:28\u001B[0m, in \u001B[0;36mtrain\u001B[1;34m(model, train_loader, val_loader, device, best_model_path, num_epochs, lr)\u001B[0m\n\u001B[0;32m     26\u001B[0m outputs \u001B[38;5;241m=\u001B[39m model(images)\n\u001B[0;32m     27\u001B[0m loss \u001B[38;5;241m=\u001B[39m criterion(outputs, labels)\n\u001B[1;32m---> 28\u001B[0m loss\u001B[38;5;241m.\u001B[39mbackward()\n\u001B[0;32m     29\u001B[0m optimizer\u001B[38;5;241m.\u001B[39mstep()\n\u001B[0;32m     30\u001B[0m training_loss \u001B[38;5;241m+\u001B[39m\u001B[38;5;241m=\u001B[39m loss\u001B[38;5;241m.\u001B[39mitem()\n",
      "File \u001B[1;32m~\\anaconda3\\envs\\scientificProject\\Lib\\site-packages\\torch\\_tensor.py:492\u001B[0m, in \u001B[0;36mTensor.backward\u001B[1;34m(self, gradient, retain_graph, create_graph, inputs)\u001B[0m\n\u001B[0;32m    482\u001B[0m \u001B[38;5;28;01mif\u001B[39;00m has_torch_function_unary(\u001B[38;5;28mself\u001B[39m):\n\u001B[0;32m    483\u001B[0m     \u001B[38;5;28;01mreturn\u001B[39;00m handle_torch_function(\n\u001B[0;32m    484\u001B[0m         Tensor\u001B[38;5;241m.\u001B[39mbackward,\n\u001B[0;32m    485\u001B[0m         (\u001B[38;5;28mself\u001B[39m,),\n\u001B[1;32m   (...)\u001B[0m\n\u001B[0;32m    490\u001B[0m         inputs\u001B[38;5;241m=\u001B[39minputs,\n\u001B[0;32m    491\u001B[0m     )\n\u001B[1;32m--> 492\u001B[0m torch\u001B[38;5;241m.\u001B[39mautograd\u001B[38;5;241m.\u001B[39mbackward(\n\u001B[0;32m    493\u001B[0m     \u001B[38;5;28mself\u001B[39m, gradient, retain_graph, create_graph, inputs\u001B[38;5;241m=\u001B[39minputs\n\u001B[0;32m    494\u001B[0m )\n",
      "File \u001B[1;32m~\\anaconda3\\envs\\scientificProject\\Lib\\site-packages\\torch\\autograd\\__init__.py:251\u001B[0m, in \u001B[0;36mbackward\u001B[1;34m(tensors, grad_tensors, retain_graph, create_graph, grad_variables, inputs)\u001B[0m\n\u001B[0;32m    246\u001B[0m     retain_graph \u001B[38;5;241m=\u001B[39m create_graph\n\u001B[0;32m    248\u001B[0m \u001B[38;5;66;03m# The reason we repeat the same comment below is that\u001B[39;00m\n\u001B[0;32m    249\u001B[0m \u001B[38;5;66;03m# some Python versions print out the first line of a multi-line function\u001B[39;00m\n\u001B[0;32m    250\u001B[0m \u001B[38;5;66;03m# calls in the traceback and some print out the last line\u001B[39;00m\n\u001B[1;32m--> 251\u001B[0m Variable\u001B[38;5;241m.\u001B[39m_execution_engine\u001B[38;5;241m.\u001B[39mrun_backward(  \u001B[38;5;66;03m# Calls into the C++ engine to run the backward pass\u001B[39;00m\n\u001B[0;32m    252\u001B[0m     tensors,\n\u001B[0;32m    253\u001B[0m     grad_tensors_,\n\u001B[0;32m    254\u001B[0m     retain_graph,\n\u001B[0;32m    255\u001B[0m     create_graph,\n\u001B[0;32m    256\u001B[0m     inputs,\n\u001B[0;32m    257\u001B[0m     allow_unreachable\u001B[38;5;241m=\u001B[39m\u001B[38;5;28;01mTrue\u001B[39;00m,\n\u001B[0;32m    258\u001B[0m     accumulate_grad\u001B[38;5;241m=\u001B[39m\u001B[38;5;28;01mTrue\u001B[39;00m,\n\u001B[0;32m    259\u001B[0m )\n",
      "\u001B[1;31mKeyboardInterrupt\u001B[0m: "
     ]
    }
   ],
   "source": [
    "# train the basic model\n",
    "path = '../models/best_alexnet_model.pth'\n",
    "training_losses5, validation_losses5, validation_accuracies5 = train(model, train_loader64, val_loader64, device, path, num_epochs=10)"
   ],
   "metadata": {
    "collapsed": false,
    "ExecuteTime": {
     "end_time": "2023-12-22T08:50:06.089200800Z",
     "start_time": "2023-12-22T08:49:16.196322900Z"
    }
   },
   "id": "257c7373623946e1"
  },
  {
   "cell_type": "markdown",
   "source": [
    "# We can do better\n",
    "Neither increased performance by that much, and AlexNet was especially underwhelming. What can we do?\n",
    "\n",
    "One clue might be that both LeNet and AlexNet have more parameters to train, and thus require a smaller learning rate, more number of epochs, and more data. Due to AlexNet's large amount of parameters, for the sake of this tutorial we will move on with LeNet for finding a lightweight model with good performance."
   ],
   "metadata": {
    "collapsed": false
   },
   "id": "c6de0b5d64a85c39"
  },
  {
   "cell_type": "code",
   "execution_count": 11,
   "outputs": [
    {
     "name": "stdout",
     "output_type": "stream",
     "text": [
      "Epoch 1: Improved validation accuracy to 10.00%. Model saved.\n",
      "Epoch 1/40 Train Loss: 3.0219, Validation Loss: 2.9998, Accuracy: 10.00%\n",
      "Epoch 2: Improved validation accuracy to 17.50%. Model saved.\n",
      "Epoch 2/40 Train Loss: 2.9258, Validation Loss: 2.9463, Accuracy: 17.50%\n",
      "Epoch 3/40 Train Loss: 2.8261, Validation Loss: 2.8825, Accuracy: 17.50%\n",
      "Epoch 4/40 Train Loss: 2.7304, Validation Loss: 2.8578, Accuracy: 17.50%\n"
     ]
    },
    {
     "ename": "KeyboardInterrupt",
     "evalue": "",
     "output_type": "error",
     "traceback": [
      "\u001B[1;31m---------------------------------------------------------------------------\u001B[0m",
      "\u001B[1;31mKeyboardInterrupt\u001B[0m                         Traceback (most recent call last)",
      "Cell \u001B[1;32mIn[11], line 6\u001B[0m\n\u001B[0;32m      2\u001B[0m \u001B[38;5;66;03m# summary(LeNetModel, input_size=(3, 224, 224))\u001B[39;00m\n\u001B[0;32m      3\u001B[0m \n\u001B[0;32m      4\u001B[0m \u001B[38;5;66;03m# train the basic model\u001B[39;00m\n\u001B[0;32m      5\u001B[0m path \u001B[38;5;241m=\u001B[39m \u001B[38;5;124m'\u001B[39m\u001B[38;5;124m../models/best_lenet_2.pth\u001B[39m\u001B[38;5;124m'\u001B[39m\n\u001B[1;32m----> 6\u001B[0m training_losses6, validation_losses6, validation_accuracies6 \u001B[38;5;241m=\u001B[39m train(LeNetModel, train_loader64, val_loader64, device, path, num_epochs\u001B[38;5;241m=\u001B[39m\u001B[38;5;241m40\u001B[39m, lr\u001B[38;5;241m=\u001B[39m\u001B[38;5;241m0.00005\u001B[39m)\n",
      "File \u001B[1;32m~\\PycharmProjects\\scientificProject\\scripts\\train.py:28\u001B[0m, in \u001B[0;36mtrain\u001B[1;34m(model, train_loader, val_loader, device, best_model_path, num_epochs, lr)\u001B[0m\n\u001B[0;32m     26\u001B[0m outputs \u001B[38;5;241m=\u001B[39m model(images)\n\u001B[0;32m     27\u001B[0m loss \u001B[38;5;241m=\u001B[39m criterion(outputs, labels)\n\u001B[1;32m---> 28\u001B[0m loss\u001B[38;5;241m.\u001B[39mbackward()\n\u001B[0;32m     29\u001B[0m optimizer\u001B[38;5;241m.\u001B[39mstep()\n\u001B[0;32m     30\u001B[0m training_loss \u001B[38;5;241m+\u001B[39m\u001B[38;5;241m=\u001B[39m loss\u001B[38;5;241m.\u001B[39mitem()\n",
      "File \u001B[1;32m~\\anaconda3\\envs\\scientificProject\\Lib\\site-packages\\torch\\_tensor.py:492\u001B[0m, in \u001B[0;36mTensor.backward\u001B[1;34m(self, gradient, retain_graph, create_graph, inputs)\u001B[0m\n\u001B[0;32m    482\u001B[0m \u001B[38;5;28;01mif\u001B[39;00m has_torch_function_unary(\u001B[38;5;28mself\u001B[39m):\n\u001B[0;32m    483\u001B[0m     \u001B[38;5;28;01mreturn\u001B[39;00m handle_torch_function(\n\u001B[0;32m    484\u001B[0m         Tensor\u001B[38;5;241m.\u001B[39mbackward,\n\u001B[0;32m    485\u001B[0m         (\u001B[38;5;28mself\u001B[39m,),\n\u001B[1;32m   (...)\u001B[0m\n\u001B[0;32m    490\u001B[0m         inputs\u001B[38;5;241m=\u001B[39minputs,\n\u001B[0;32m    491\u001B[0m     )\n\u001B[1;32m--> 492\u001B[0m torch\u001B[38;5;241m.\u001B[39mautograd\u001B[38;5;241m.\u001B[39mbackward(\n\u001B[0;32m    493\u001B[0m     \u001B[38;5;28mself\u001B[39m, gradient, retain_graph, create_graph, inputs\u001B[38;5;241m=\u001B[39minputs\n\u001B[0;32m    494\u001B[0m )\n",
      "File \u001B[1;32m~\\anaconda3\\envs\\scientificProject\\Lib\\site-packages\\torch\\autograd\\__init__.py:251\u001B[0m, in \u001B[0;36mbackward\u001B[1;34m(tensors, grad_tensors, retain_graph, create_graph, grad_variables, inputs)\u001B[0m\n\u001B[0;32m    246\u001B[0m     retain_graph \u001B[38;5;241m=\u001B[39m create_graph\n\u001B[0;32m    248\u001B[0m \u001B[38;5;66;03m# The reason we repeat the same comment below is that\u001B[39;00m\n\u001B[0;32m    249\u001B[0m \u001B[38;5;66;03m# some Python versions print out the first line of a multi-line function\u001B[39;00m\n\u001B[0;32m    250\u001B[0m \u001B[38;5;66;03m# calls in the traceback and some print out the last line\u001B[39;00m\n\u001B[1;32m--> 251\u001B[0m Variable\u001B[38;5;241m.\u001B[39m_execution_engine\u001B[38;5;241m.\u001B[39mrun_backward(  \u001B[38;5;66;03m# Calls into the C++ engine to run the backward pass\u001B[39;00m\n\u001B[0;32m    252\u001B[0m     tensors,\n\u001B[0;32m    253\u001B[0m     grad_tensors_,\n\u001B[0;32m    254\u001B[0m     retain_graph,\n\u001B[0;32m    255\u001B[0m     create_graph,\n\u001B[0;32m    256\u001B[0m     inputs,\n\u001B[0;32m    257\u001B[0m     allow_unreachable\u001B[38;5;241m=\u001B[39m\u001B[38;5;28;01mTrue\u001B[39;00m,\n\u001B[0;32m    258\u001B[0m     accumulate_grad\u001B[38;5;241m=\u001B[39m\u001B[38;5;28;01mTrue\u001B[39;00m,\n\u001B[0;32m    259\u001B[0m )\n",
      "\u001B[1;31mKeyboardInterrupt\u001B[0m: "
     ]
    }
   ],
   "source": [
    "LeNetModel = LeNet(num_classes=num_classes).to(device)\n",
    "# summary(LeNetModel, input_size=(3, 224, 224))\n",
    "\n",
    "# train the basic model\n",
    "path = '../models/best_lenet_2.pth'\n",
    "training_losses6, validation_losses6, validation_accuracies6 = train(LeNetModel, train_loader64, val_loader64, device, path, num_epochs=40, lr=0.00005)\n"
   ],
   "metadata": {
    "collapsed": false,
    "ExecuteTime": {
     "end_time": "2023-12-22T08:50:26.550705600Z",
     "start_time": "2023-12-22T08:50:14.567548200Z"
    }
   },
   "id": "d00aac574ef2c922"
  },
  {
   "cell_type": "code",
   "execution_count": 12,
   "outputs": [
    {
     "name": "stdout",
     "output_type": "stream",
     "text": [
      "Epoch 1: Improved validation accuracy to 7.50%. Model saved.\n",
      "Epoch 1/40 Train Loss: 3.0454, Validation Loss: 3.0260, Accuracy: 7.50%\n",
      "Epoch 2: Improved validation accuracy to 9.17%. Model saved.\n",
      "Epoch 2/40 Train Loss: 2.9843, Validation Loss: 2.9273, Accuracy: 9.17%\n"
     ]
    },
    {
     "ename": "KeyboardInterrupt",
     "evalue": "",
     "output_type": "error",
     "traceback": [
      "\u001B[1;31m---------------------------------------------------------------------------\u001B[0m",
      "\u001B[1;31mKeyboardInterrupt\u001B[0m                         Traceback (most recent call last)",
      "Cell \u001B[1;32mIn[12], line 6\u001B[0m\n\u001B[0;32m      2\u001B[0m \u001B[38;5;66;03m# summary(LeNetModel, input_size=(3, 224, 224))\u001B[39;00m\n\u001B[0;32m      3\u001B[0m \n\u001B[0;32m      4\u001B[0m \u001B[38;5;66;03m# train the basic model\u001B[39;00m\n\u001B[0;32m      5\u001B[0m path \u001B[38;5;241m=\u001B[39m \u001B[38;5;124m'\u001B[39m\u001B[38;5;124m../models/best_basiccnn2_2.pth\u001B[39m\u001B[38;5;124m'\u001B[39m\n\u001B[1;32m----> 6\u001B[0m training_losses3, validation_losses3, validation_accuracies3 \u001B[38;5;241m=\u001B[39m train(BasicCNN2Model, train_loader64, val_loader64, device, path, num_epochs\u001B[38;5;241m=\u001B[39m\u001B[38;5;241m40\u001B[39m, lr\u001B[38;5;241m=\u001B[39m\u001B[38;5;241m0.0005\u001B[39m)\n",
      "File \u001B[1;32m~\\PycharmProjects\\scientificProject\\scripts\\train.py:28\u001B[0m, in \u001B[0;36mtrain\u001B[1;34m(model, train_loader, val_loader, device, best_model_path, num_epochs, lr)\u001B[0m\n\u001B[0;32m     26\u001B[0m outputs \u001B[38;5;241m=\u001B[39m model(images)\n\u001B[0;32m     27\u001B[0m loss \u001B[38;5;241m=\u001B[39m criterion(outputs, labels)\n\u001B[1;32m---> 28\u001B[0m loss\u001B[38;5;241m.\u001B[39mbackward()\n\u001B[0;32m     29\u001B[0m optimizer\u001B[38;5;241m.\u001B[39mstep()\n\u001B[0;32m     30\u001B[0m training_loss \u001B[38;5;241m+\u001B[39m\u001B[38;5;241m=\u001B[39m loss\u001B[38;5;241m.\u001B[39mitem()\n",
      "File \u001B[1;32m~\\anaconda3\\envs\\scientificProject\\Lib\\site-packages\\torch\\_tensor.py:492\u001B[0m, in \u001B[0;36mTensor.backward\u001B[1;34m(self, gradient, retain_graph, create_graph, inputs)\u001B[0m\n\u001B[0;32m    482\u001B[0m \u001B[38;5;28;01mif\u001B[39;00m has_torch_function_unary(\u001B[38;5;28mself\u001B[39m):\n\u001B[0;32m    483\u001B[0m     \u001B[38;5;28;01mreturn\u001B[39;00m handle_torch_function(\n\u001B[0;32m    484\u001B[0m         Tensor\u001B[38;5;241m.\u001B[39mbackward,\n\u001B[0;32m    485\u001B[0m         (\u001B[38;5;28mself\u001B[39m,),\n\u001B[1;32m   (...)\u001B[0m\n\u001B[0;32m    490\u001B[0m         inputs\u001B[38;5;241m=\u001B[39minputs,\n\u001B[0;32m    491\u001B[0m     )\n\u001B[1;32m--> 492\u001B[0m torch\u001B[38;5;241m.\u001B[39mautograd\u001B[38;5;241m.\u001B[39mbackward(\n\u001B[0;32m    493\u001B[0m     \u001B[38;5;28mself\u001B[39m, gradient, retain_graph, create_graph, inputs\u001B[38;5;241m=\u001B[39minputs\n\u001B[0;32m    494\u001B[0m )\n",
      "File \u001B[1;32m~\\anaconda3\\envs\\scientificProject\\Lib\\site-packages\\torch\\autograd\\__init__.py:251\u001B[0m, in \u001B[0;36mbackward\u001B[1;34m(tensors, grad_tensors, retain_graph, create_graph, grad_variables, inputs)\u001B[0m\n\u001B[0;32m    246\u001B[0m     retain_graph \u001B[38;5;241m=\u001B[39m create_graph\n\u001B[0;32m    248\u001B[0m \u001B[38;5;66;03m# The reason we repeat the same comment below is that\u001B[39;00m\n\u001B[0;32m    249\u001B[0m \u001B[38;5;66;03m# some Python versions print out the first line of a multi-line function\u001B[39;00m\n\u001B[0;32m    250\u001B[0m \u001B[38;5;66;03m# calls in the traceback and some print out the last line\u001B[39;00m\n\u001B[1;32m--> 251\u001B[0m Variable\u001B[38;5;241m.\u001B[39m_execution_engine\u001B[38;5;241m.\u001B[39mrun_backward(  \u001B[38;5;66;03m# Calls into the C++ engine to run the backward pass\u001B[39;00m\n\u001B[0;32m    252\u001B[0m     tensors,\n\u001B[0;32m    253\u001B[0m     grad_tensors_,\n\u001B[0;32m    254\u001B[0m     retain_graph,\n\u001B[0;32m    255\u001B[0m     create_graph,\n\u001B[0;32m    256\u001B[0m     inputs,\n\u001B[0;32m    257\u001B[0m     allow_unreachable\u001B[38;5;241m=\u001B[39m\u001B[38;5;28;01mTrue\u001B[39;00m,\n\u001B[0;32m    258\u001B[0m     accumulate_grad\u001B[38;5;241m=\u001B[39m\u001B[38;5;28;01mTrue\u001B[39;00m,\n\u001B[0;32m    259\u001B[0m )\n",
      "\u001B[1;31mKeyboardInterrupt\u001B[0m: "
     ]
    }
   ],
   "source": [
    "BasicCNN2Model = BasicCNN2(num_classes=num_classes).to(device)\n",
    "# summary(LeNetModel, input_size=(3, 224, 224))\n",
    "\n",
    "# train the basic model\n",
    "path = '../models/best_basiccnn2_2.pth'\n",
    "training_losses3, validation_losses3, validation_accuracies3 = train(BasicCNN2Model, train_loader64, val_loader64, device, path, num_epochs=40, lr=0.0005)\n"
   ],
   "metadata": {
    "collapsed": false,
    "ExecuteTime": {
     "end_time": "2023-12-22T08:51:26.618853400Z",
     "start_time": "2023-12-22T08:50:31.057519700Z"
    }
   },
   "id": "fc62297a47430f24"
  },
  {
   "cell_type": "markdown",
   "source": [
    "# Evaluating the Results\n",
    "There's already a difference, and we get to 40%+ accuracy even with only 800 data samples. As we see, there are many things we can do to improve the performance of our classifier. Let's plot the results to see if we're ready to scale it up on the entire data set!"
   ],
   "metadata": {
    "collapsed": false
   },
   "id": "8fffbf83c695eddb"
  },
  {
   "cell_type": "code",
   "execution_count": 13,
   "outputs": [
    {
     "ename": "NameError",
     "evalue": "name 'training_losses' is not defined",
     "output_type": "error",
     "traceback": [
      "\u001B[1;31m---------------------------------------------------------------------------\u001B[0m",
      "\u001B[1;31mNameError\u001B[0m                                 Traceback (most recent call last)",
      "Cell \u001B[1;32mIn[13], line 7\u001B[0m\n\u001B[0;32m      4\u001B[0m fig, axs \u001B[38;5;241m=\u001B[39m plt\u001B[38;5;241m.\u001B[39msubplots(\u001B[38;5;241m1\u001B[39m, \u001B[38;5;241m3\u001B[39m, figsize\u001B[38;5;241m=\u001B[39m(\u001B[38;5;241m16\u001B[39m, \u001B[38;5;241m4\u001B[39m))  \u001B[38;5;66;03m# 1 row, 3 columns\u001B[39;00m\n\u001B[0;32m      6\u001B[0m \u001B[38;5;66;03m# plot Basic CNN, Basic CNN 2 optimized, and LeNet optimized, and AlexNet optimized\u001B[39;00m\n\u001B[1;32m----> 7\u001B[0m axs[\u001B[38;5;241m0\u001B[39m]\u001B[38;5;241m.\u001B[39mplot(training_losses, label\u001B[38;5;241m=\u001B[39m\u001B[38;5;124m'\u001B[39m\u001B[38;5;124mBasic CNN\u001B[39m\u001B[38;5;124m'\u001B[39m)\n\u001B[0;32m      8\u001B[0m axs[\u001B[38;5;241m0\u001B[39m]\u001B[38;5;241m.\u001B[39mplot(training_losses6, label\u001B[38;5;241m=\u001B[39m\u001B[38;5;124m'\u001B[39m\u001B[38;5;124mLeNet Optimized\u001B[39m\u001B[38;5;124m'\u001B[39m)\n\u001B[0;32m      9\u001B[0m axs[\u001B[38;5;241m0\u001B[39m]\u001B[38;5;241m.\u001B[39mplot(training_losses3, label\u001B[38;5;241m=\u001B[39m\u001B[38;5;124m'\u001B[39m\u001B[38;5;124mBasic CNN 2 Optimized\u001B[39m\u001B[38;5;124m'\u001B[39m)\n",
      "\u001B[1;31mNameError\u001B[0m: name 'training_losses' is not defined"
     ]
    },
    {
     "data": {
      "text/plain": "<Figure size 1600x400 with 3 Axes>",
      "image/png": "[encoded data removed]"
     },
     "metadata": {},
     "output_type": "display_data"
    }
   ],
   "source": [
    "import matplotlib.pyplot as plt\n",
    "\n",
    "# plot three subplots: training loss, validation loss, and validation accuracy\n",
    "fig, axs = plt.subplots(1, 3, figsize=(16, 4))  # 1 row, 3 columns\n",
    "\n",
    "# plot Basic CNN, Basic CNN 2 optimized, and LeNet optimized, and AlexNet optimized\n",
    "axs[0].plot(training_losses, label='Basic CNN')\n",
    "axs[0].plot(training_losses6, label='LeNet Optimized')\n",
    "axs[0].plot(training_losses3, label='Basic CNN 2 Optimized')\n",
    "axs[0].set_title('Training Loss')\n",
    "\n",
    "axs[1].plot(validation_losses, label='Basic CNN')\n",
    "axs[1].plot(validation_losses6, label='LeNet Optimized')\n",
    "axs[1].plot(validation_losses3, label='Basic CNN 2 Optimized')\n",
    "axs[1].set_title('Validation Loss')\n",
    "\n",
    "axs[2].plot(validation_accuracies, label='Basic CNN')\n",
    "axs[2].plot(validation_accuracies6, label='LeNet Optimized')\n",
    "axs[2].plot(validation_accuracies3, label='Basic CNN 2 Optimized')\n",
    "axs[2].set_title('Validation Accuracy')\n",
    "\n",
    "for ax in axs:\n",
    "    ax.set_xlabel('Epoch')\n",
    "    ax.set_ylabel('Metric')\n",
    "    ax.legend()\n",
    "    \n",
    "# Show results\n",
    "plt.show()\n"
   ],
   "metadata": {
    "collapsed": false,
    "ExecuteTime": {
     "end_time": "2023-12-22T08:51:43.025407700Z",
     "start_time": "2023-12-22T08:51:42.486032900Z"
    }
   },
   "id": "a7f5513ed4bf2519"
  },
  {
   "cell_type": "markdown",
   "source": [
    "# Evaluating Other Metrics\n",
    "We can also evaluate other metrics, such as F1 score, precision, and recall. Let's do that for the best model we have so far, the LetNet Optimized. We begin by testing it on the test set."
   ],
   "metadata": {
    "collapsed": false
   },
   "id": "8216323131082ce0"
  },
  {
   "cell_type": "code",
   "execution_count": 15,
   "outputs": [
    {
     "name": "stdout",
     "output_type": "stream",
     "text": [
      "Test Loss: 5.9371 Accuracy: 12.50%\n"
     ]
    }
   ],
   "source": [
    "from scripts.test import test\n",
    "# Get test accuracy\n",
    "test(LeNetModel, test_loader64, device) # prints the results\n"
   ],
   "metadata": {
    "collapsed": false,
    "ExecuteTime": {
     "end_time": "2023-12-22T08:52:27.513770500Z",
     "start_time": "2023-12-22T08:52:27.208729100Z"
    }
   },
   "id": "35695277d4e6c78e"
  },
  {
   "cell_type": "code",
   "execution_count": 17,
   "outputs": [
    {
     "name": "stdout",
     "output_type": "stream",
     "text": [
      "F1 score: 0.0727\n",
      "Precision: 0.0664\n",
      "Recall: 0.1250\n"
     ]
    },
    {
     "name": "stderr",
     "output_type": "stream",
     "text": [
      "C:\\Users\\sosty\\anaconda3\\envs\\scientificProject\\Lib\\site-packages\\sklearn\\metrics\\_classification.py:1471: UndefinedMetricWarning: Precision is ill-defined and being set to 0.0 in labels with no predicted samples. Use `zero_division` parameter to control this behavior.\n",
      "  _warn_prf(average, modifier, msg_start, len(result))\n"
     ]
    }
   ],
   "source": [
    "# Get F1 score, precision, and recall on test set\n",
    "from sklearn.metrics import f1_score, precision_score, recall_score\n",
    "\n",
    "# get f1 score\n",
    "y_true, y_pred = [], []\n",
    "for images, labels in test_loader64:\n",
    "    images, labels = images.to(device), labels.to(device)\n",
    "    outputs = LeNetModel(images)\n",
    "    _, predicted = torch.max(outputs.data, 1)\n",
    "    y_true.extend(labels.cpu().numpy())\n",
    "    y_pred.extend(predicted.cpu().numpy())\n",
    "    \n",
    "f1 = f1_score(y_true, y_pred, average='weighted')\n",
    "precision = precision_score(y_true, y_pred, average='weighted')\n",
    "recall = recall_score(y_true, y_pred, average='weighted')\n",
    "\n",
    "print(f'F1 score: {f1:.4f}')\n",
    "print(f'Precision: {precision:.4f}')\n",
    "print(f'Recall: {recall:.4f}')"
   ],
   "metadata": {
    "collapsed": false,
    "ExecuteTime": {
     "end_time": "2023-12-22T08:52:36.396051800Z",
     "start_time": "2023-12-22T08:52:36.143338500Z"
    }
   },
   "id": "27f75dd413a8a43a"
  },
  {
   "cell_type": "markdown",
   "source": [
    "These are quite underwhelming results, but that is unfortunately the reality for models without skip connections and with lots of parameters and little training time and training data. Lets plot a confusion matrix to see what is most often misclassified."
   ],
   "metadata": {
    "collapsed": false
   },
   "id": "12eb9577cb352906"
  },
  {
   "cell_type": "code",
   "execution_count": 18,
   "outputs": [
    {
     "data": {
      "text/plain": "<Figure size 1000x1000 with 1 Axes>",
      "image/png": "[encoded data removed]"
     },
     "metadata": {},
     "output_type": "display_data"
    }
   ],
   "source": [
    "from sklearn.metrics import confusion_matrix\n",
    "import seaborn as sns\n",
    "\n",
    "# Get confusion matrix\n",
    "cm = confusion_matrix(y_true, y_pred)\n",
    "\n",
    "# Plot confusion matrix\n",
    "plt.figure(figsize=(10, 10))\n",
    "sns.heatmap(cm, annot=True, fmt='d', cmap='Blues', cbar=False)\n",
    "plt.xlabel('Predicted Label')\n",
    "plt.ylabel('True Label')\n",
    "plt.show()"
   ],
   "metadata": {
    "collapsed": false,
    "ExecuteTime": {
     "end_time": "2023-12-22T08:52:44.387129800Z",
     "start_time": "2023-12-22T08:52:43.610294400Z"
    }
   },
   "id": "ce1489564def646d"
  },
  {
   "cell_type": "markdown",
   "source": [
    "# Scaling it Up\n",
    "Let's scale this model up on the entire data set and see how it performs. We will use the LeNet model, as it had the best balance of size and performance which is perfect for our needs."
   ],
   "metadata": {
    "collapsed": false
   },
   "id": "6911eaebc4085871"
  },
  {
   "cell_type": "code",
   "execution_count": 19,
   "outputs": [
    {
     "name": "stdout",
     "output_type": "stream",
     "text": [
      "Loaded 2100 images, with 21 different classes.\n"
     ]
    },
    {
     "name": "stderr",
     "output_type": "stream",
     "text": [
      "Loading images: 100%|██████████| 1470/1470 [00:03<00:00, 460.88it/s]\n",
      "Loading images: 100%|██████████| 315/315 [00:00<00:00, 424.89it/s]\n",
      "Loading images: 100%|██████████| 315/315 [00:00<00:00, 448.76it/s]\n"
     ]
    }
   ],
   "source": [
    "image_paths, labels, num_classes, label_mapping = load_data(-1) # entire dataset\n",
    "\n",
    "# Split the data (adjust the test_size according to your needs)\n",
    "train_paths, test_paths, train_labels, test_labels = train_test_split(\n",
    "    image_paths, labels, test_size=0.30, random_state=42)\n",
    "\n",
    "val_paths, test_paths, val_labels, test_labels = train_test_split(\n",
    "    test_paths, test_labels, test_size=0.5, random_state=42)\n",
    "\n",
    "train_dataset, val_dataset, test_dataset = transform_data(train_paths, train_labels, val_paths, val_labels, test_paths, test_labels)\n",
    "\n",
    "# Create DataLoaders of size 64\n",
    "train_loader64 = DataLoader(train_dataset, batch_size=64, shuffle=True)\n",
    "val_loader64 = DataLoader(val_dataset, batch_size=64, shuffle=False)\n",
    "test_loader64 = DataLoader(test_dataset, batch_size=64, shuffle=False)"
   ],
   "metadata": {
    "collapsed": false,
    "ExecuteTime": {
     "end_time": "2023-12-22T08:53:04.104791500Z",
     "start_time": "2023-12-22T08:52:57.910966800Z"
    }
   },
   "id": "42ced4b36cbcb051"
  },
  {
   "cell_type": "code",
   "execution_count": 20,
   "outputs": [
    {
     "name": "stdout",
     "output_type": "stream",
     "text": [
      "----------------------------------------------------------------\n",
      "        Layer (type)               Output Shape         Param #\n",
      "================================================================\n",
      "            Conv2d-1           [-1, 96, 55, 55]          34,944\n",
      "         MaxPool2d-2           [-1, 96, 27, 27]               0\n",
      "            Conv2d-3          [-1, 256, 27, 27]         614,656\n",
      "         MaxPool2d-4          [-1, 256, 13, 13]               0\n",
      "            Conv2d-5          [-1, 384, 13, 13]         885,120\n",
      "            Conv2d-6          [-1, 384, 13, 13]       1,327,488\n",
      "            Conv2d-7          [-1, 256, 13, 13]         884,992\n",
      "         MaxPool2d-8            [-1, 256, 6, 6]               0\n",
      "            Linear-9                 [-1, 4096]      37,752,832\n",
      "           Linear-10                 [-1, 4096]      16,781,312\n",
      "           Linear-11                   [-1, 21]          86,037\n",
      "================================================================\n",
      "Total params: 58,367,381\n",
      "Trainable params: 58,367,381\n",
      "Non-trainable params: 0\n",
      "----------------------------------------------------------------\n",
      "Input size (MB): 0.57\n",
      "Forward/backward pass size (MB): 5.96\n",
      "Params size (MB): 222.65\n",
      "Estimated Total Size (MB): 229.18\n",
      "----------------------------------------------------------------\n",
      "Epoch 1: Improved validation accuracy to 13.97%. Model saved.\n",
      "Epoch 1/10 Train Loss: 2.9802, Validation Loss: 2.8804, Accuracy: 13.97%\n",
      "Epoch 2: Improved validation accuracy to 15.24%. Model saved.\n",
      "Epoch 2/10 Train Loss: 2.8277, Validation Loss: 2.7700, Accuracy: 15.24%\n",
      "Epoch 3: Improved validation accuracy to 19.05%. Model saved.\n",
      "Epoch 3/10 Train Loss: 2.6753, Validation Loss: 2.6670, Accuracy: 19.05%\n",
      "Epoch 4: Improved validation accuracy to 22.86%. Model saved.\n",
      "Epoch 4/10 Train Loss: 2.5041, Validation Loss: 2.5520, Accuracy: 22.86%\n",
      "Epoch 5: Improved validation accuracy to 28.57%. Model saved.\n",
      "Epoch 5/10 Train Loss: 2.3122, Validation Loss: 2.4350, Accuracy: 28.57%\n",
      "Epoch 6: Improved validation accuracy to 32.38%. Model saved.\n",
      "Epoch 6/10 Train Loss: 2.1267, Validation Loss: 2.3328, Accuracy: 32.38%\n",
      "Epoch 7: Improved validation accuracy to 34.60%. Model saved.\n",
      "Epoch 7/10 Train Loss: 1.9163, Validation Loss: 2.2316, Accuracy: 34.60%\n",
      "Epoch 8/10 Train Loss: 1.7263, Validation Loss: 2.2009, Accuracy: 34.60%\n",
      "Epoch 9: Improved validation accuracy to 37.78%. Model saved.\n",
      "Epoch 9/10 Train Loss: 1.5528, Validation Loss: 2.0866, Accuracy: 37.78%\n",
      "Epoch 10/10 Train Loss: 1.3783, Validation Loss: 2.1311, Accuracy: 36.83%\n"
     ]
    }
   ],
   "source": [
    "LeNetModel = LeNet(num_classes=num_classes).to(device)\n",
    "summary(model, input_size=(3, 224, 224))\n",
    "\n",
    "# train the basic model\n",
    "path = '../models/alexnet_best_of_the_best.pth'\n",
    "training_losses7, validation_losses7, validation_accuracies7 = train(LeNetModel, train_loader64, val_loader64, device, path, num_epochs=10, lr=0.00005)"
   ],
   "metadata": {
    "collapsed": false,
    "ExecuteTime": {
     "end_time": "2023-12-22T08:54:32.606639400Z",
     "start_time": "2023-12-22T08:53:17.056900100Z"
    }
   },
   "id": "e3db133b54179e8"
  },
  {
   "cell_type": "markdown",
   "source": [
    "# Evaluating the Results\n",
    "Let's plot the results to see how it performs on the entire data set. We will also print the test accuracy, F1 score, precision, and recall."
   ],
   "metadata": {
    "collapsed": false
   },
   "id": "a158c7ae24bb422"
  },
  {
   "cell_type": "code",
   "execution_count": 25,
   "outputs": [
    {
     "data": {
      "text/plain": "<Figure size 1600x400 with 3 Axes>",
      "image/png": "[encoded data removed]"
     },
     "metadata": {},
     "output_type": "display_data"
    }
   ],
   "source": [
    "import matplotlib.pyplot as plt\n",
    "\n",
    "# Plot three subplots: training loss, validation loss, and validation accuracy for ALexNet and BasicCNN2\n",
    "fig, axs = plt.subplots(1, 3, figsize=(16, 4))  # 1 row, 3 columns\n",
    "\n",
    "axs[0].plot(training_losses7, label='LeNet Optimized')\n",
    "axs[0].set_title('Training Loss')\n",
    "\n",
    "axs[1].plot(validation_losses7, label='LeNet Optimized')\n",
    "axs[1].set_title('Validation Loss')\n",
    "\n",
    "axs[2].plot(validation_accuracies7, label='LeNet Optimized')\n",
    "axs[2].set_title('Validation Accuracy')\n",
    "\n",
    "for ax in axs:\n",
    "    ax.set_xlabel('Epoch')\n",
    "    ax.set_ylabel('Metric')\n",
    "    ax.legend()\n",
    "    \n",
    "# Show results\n",
    "plt.show()"
   ],
   "metadata": {
    "collapsed": false,
    "ExecuteTime": {
     "end_time": "2023-12-22T08:59:42.315054300Z",
     "start_time": "2023-12-22T08:59:41.761487800Z"
    }
   },
   "id": "3efbf55945ebfc69"
  },
  {
   "cell_type": "markdown",
   "source": [
    "Let's print the test accuracy, F1 score, precision, and recall."
   ],
   "metadata": {
    "collapsed": false
   },
   "id": "13d36f58790d3e26"
  },
  {
   "cell_type": "code",
   "execution_count": 27,
   "outputs": [
    {
     "name": "stdout",
     "output_type": "stream",
     "text": [
      "Test Loss: 9.2527 Accuracy: 44.44%\n",
      "F1 score: 0.4337\n",
      "Precision: 0.5028\n",
      "Recall: 0.4444\n"
     ]
    }
   ],
   "source": [
    "# Get test accuracy\n",
    "test(LeNetModel, test_loader64, device) # prints the results\n",
    "\n",
    "# Get F1 score, precision, and recall on test set\n",
    "y_true, y_pred = [], []\n",
    "for images, labels in test_loader64:\n",
    "    images, labels = images.to(device), labels.to(device)\n",
    "    outputs = LeNetModel(images)\n",
    "    _, predicted = torch.max(outputs.data, 1)\n",
    "    y_true.extend(labels.cpu().numpy())\n",
    "    y_pred.extend(predicted.cpu().numpy())\n",
    "    \n",
    "f1 = f1_score(y_true, y_pred, average='weighted')\n",
    "precision = precision_score(y_true, y_pred, average='weighted')\n",
    "recall = recall_score(y_true, y_pred, average='weighted')\n",
    "\n",
    "print(f'F1 score: {f1:.4f}')\n",
    "print(f'Precision: {precision:.4f}')\n",
    "print(f'Recall: {recall:.4f}')"
   ],
   "metadata": {
    "collapsed": false,
    "ExecuteTime": {
     "end_time": "2023-12-22T09:00:13.969747500Z",
     "start_time": "2023-12-22T09:00:12.596004500Z"
    }
   },
   "id": "74d1f19371e73882"
  },
  {
   "cell_type": "markdown",
   "source": [
    "# Concluding Remarks\n",
    "There are many ways to find a better model, and we have only scratched the surface. Some ideas are:\n",
    "- Train for more epochs\n",
    "- Train a larger model\n",
    "- Train a ResNet\n",
    "\n",
    "There are also many ways to improve the data set with data augmentation that we will explore in part 2 of this tutorial. This part 1 is to show the intuition behind finding a good model, and how to do it in a structured manner."
   ],
   "metadata": {
    "collapsed": false
   },
   "id": "f92a9748283c31ce"
  }
 ],
 "metadata": {
  "kernelspec": {
   "display_name": "Python 3",
   "language": "python",
   "name": "python3"
  },
  "language_info": {
   "codemirror_mode": {
    "name": "ipython",
    "version": 2
   },
   "file_extension": ".py",
   "mimetype": "text/x-python",
   "name": "python",
   "nbconvert_exporter": "python",
   "pygments_lexer": "ipython2",
   "version": "2.7.6"
  }
 },
 "nbformat": 4,
 "nbformat_minor": 5
}
